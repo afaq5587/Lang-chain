{
  "nbformat": 4,
  "nbformat_minor": 0,
  "metadata": {
    "colab": {
      "provenance": [],
      "authorship_tag": "ABX9TyPLYC6qZoTtQSiVcrWnzjYJ",
      "include_colab_link": true
    },
    "kernelspec": {
      "name": "python3",
      "display_name": "Python 3"
    },
    "language_info": {
      "name": "python"
    }
  },
  "cells": [
    {
      "cell_type": "markdown",
      "metadata": {
        "id": "view-in-github",
        "colab_type": "text"
      },
      "source": [
        "<a href=\"https://colab.research.google.com/github/afaq5587/Lang-chain/blob/main/Langchain_Project_1.ipynb\" target=\"_parent\"><img src=\"https://colab.research.google.com/assets/colab-badge.svg\" alt=\"Open In Colab\"/></a>"
      ]
    },
    {
      "cell_type": "markdown",
      "source": [
        "# Langchain simple calculator chatbot with gemini API\n",
        "\n",
        "This code demonstrates how to integrate the Gemini API with LangChain for simple question-answering.  It uses the `langchain-google-genai` library and requires a Google Gemini API key.\n"
      ],
      "metadata": {
        "id": "GWstIJjL4jBx"
      }
    },
    {
      "cell_type": "markdown",
      "source": [
        "1. **First i Install necessary libraries:**\n"
      ],
      "metadata": {
        "id": "Et-cqwuoH0dS"
      }
    },
    {
      "cell_type": "code",
      "source": [
        "!pip -q install langchain langchain-google-genai\n"
      ],
      "metadata": {
        "id": "KAcDS2r-Yk5q",
        "colab": {
          "base_uri": "https://localhost:8080/"
        },
        "collapsed": true,
        "outputId": "e098deb7-a9c8-4b48-b672-6b4bf8b14e5b"
      },
      "execution_count": 1,
      "outputs": [
        {
          "output_type": "stream",
          "name": "stdout",
          "text": [
            "\u001b[?25l   \u001b[90m━━━━━━━━━━━━━━━━━━━━━━━━━━━━━━━━━━━━━━━━\u001b[0m \u001b[32m0.0/41.5 kB\u001b[0m \u001b[31m?\u001b[0m eta \u001b[36m-:--:--\u001b[0m\r\u001b[2K   \u001b[90m━━━━━━━━━━━━━━━━━━━━━━━━━━━━━━━━━━━━━━━━\u001b[0m \u001b[32m41.5/41.5 kB\u001b[0m \u001b[31m3.1 MB/s\u001b[0m eta \u001b[36m0:00:00\u001b[0m\n",
            "\u001b[?25h\u001b[?25l   \u001b[90m━━━━━━━━━━━━━━━━━━━━━━━━━━━━━━━━━━━━━━━━\u001b[0m \u001b[32m0.0/411.6 kB\u001b[0m \u001b[31m?\u001b[0m eta \u001b[36m-:--:--\u001b[0m\r\u001b[2K   \u001b[90m━━━━━━━━━━━━━━━━━━━━━━━━━━━━━━━━━━━━━━━━\u001b[0m \u001b[32m411.6/411.6 kB\u001b[0m \u001b[31m28.5 MB/s\u001b[0m eta \u001b[36m0:00:00\u001b[0m\n",
            "\u001b[?25h"
          ]
        }
      ]
    },
    {
      "cell_type": "markdown",
      "source": [
        "## Setup\n",
        "2. **Import Libraries and Set API Key:**\n",
        "3. **Configure the gemini model**\n",
        "4. **Create a Prompt Template:**\n",
        "5. **Create an LLMChain:**\n",
        "\n",
        "\n",
        "## Main Function\n",
        "\n",
        "The `main` function handles user interaction:\n",
        "1. **User Input:** Continuously prompts the user for a question.\n",
        "2. **Model Execution:** Executes the LLM chain to get a response.\n",
        "3. **Output:** Prints the model's response.\n",
        "4. **Exit Condition:** Exits when the user enters \"quit\".\n",
        "\n",
        "## Example Usage\n",
        "\n",
        "Run the code, and you'll be prompted to enter questions. The program will continue until you enter \"!quit!\".\n"
      ],
      "metadata": {
        "id": "athOPNPyHguA"
      }
    },
    {
      "cell_type": "code",
      "source": [
        "import langchain_google_genai as genai\n",
        "\n",
        "from google.colab import userdata\n",
        "GOOGLE_API_KEY = userdata.get('GEMINI_API_KEY')\n",
        "# set environment\n",
        "from langchain_google_genai import ChatGoogleGenerativeAI\n",
        "from langchain.prompts import PromptTemplate\n",
        "from langchain.chains import LLMChain\n",
        "# configure the gemini model and set temperature.\n",
        "MODEL : ChatGoogleGenerativeAI = ChatGoogleGenerativeAI(\n",
        "    model = \"gemini-2.0-flash-exp\",\n",
        "    api_key = GOOGLE_API_KEY,\n",
        "    temperature= 0.9,\n",
        ")\n",
        "\n",
        "# Create a prompt template\n",
        "prompt_template = PromptTemplate(\n",
        "    input_variables=[\"question\"],\n",
        "    template=\"You are a best calculator.answer the user if he ask for calculation othewise don't answer. Answer the following question:\\n\\n{question}\"\n",
        ")\n",
        "chain = LLMChain(llm=MODEL, prompt=prompt_template)\n",
        "\n",
        "# created main function\n",
        "def main():\n",
        "  question = \"\"\n",
        "  while question != \"quit\":\n",
        "    question= input(f\"hi! I am your assistant how can i help you.\\nif you want to quit enter quit.\")\n",
        "    response = chain.run({\"question\": question})\n",
        "\n",
        "\n",
        "\n",
        "    print(\"Answer:\", response)\n",
        "# call the function\n",
        "main()\n",
        "\n",
        "\n",
        "\n"
      ],
      "metadata": {
        "id": "jGREKMdU4qyf",
        "colab": {
          "base_uri": "https://localhost:8080/"
        },
        "collapsed": true,
        "outputId": "370d7708-55c5-4d8b-b75f-a6bdcddffa2f"
      },
      "execution_count": 4,
      "outputs": [
        {
          "output_type": "stream",
          "name": "stdout",
          "text": [
            "hi! I am your assistant how can i help you.\n",
            "if you want to quit enter quit.quit\n",
            "Answer: Okay.\n"
          ]
        }
      ]
    }
  ]
}